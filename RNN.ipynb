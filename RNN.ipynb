{
 "cells": [
  {
   "cell_type": "markdown",
   "id": "f52f82ef",
   "metadata": {},
   "source": [
    "## BASIC LSTM USING PYTORCH"
   ]
  },
  {
   "cell_type": "code",
   "execution_count": 1,
   "id": "b4e15bb9",
   "metadata": {},
   "outputs": [],
   "source": [
    "import torch\n",
    "import torch.nn as nn\n",
    "import torch.optim as optim "
   ]
  },
  {
   "cell_type": "code",
   "execution_count": 2,
   "id": "c0ec7aa9",
   "metadata": {},
   "outputs": [],
   "source": [
    "class TimeSeriesRNN(nn.Module):\n",
    "    def __init__(self, n_lstm_layers, n_input, n_hidden, n_output):\n",
    "        super(TimeSeriesRNN, self).__init()\n",
    "        \n",
    "        self.n_lstm_layers = n_lstm_layers\n",
    "        self.n_input = n_input\n",
    "        self.n_hidden = n_hidden\n",
    "        self.n_output = n_output\n",
    "        \n",
    "        self.LSTM_layer = nn.LSTM(self.n_input, self.n_hidden, self.n_lstm_layers, batch_first = True)\n",
    "        \n",
    "        self.fc_layers = nn.Sequential(\n",
    "            nn.Linear(self.n_hidden, int(self.n_hidden*2)),\n",
    "            nn.ReLU(),\n",
    "            nn.Linear(int(self.n_hidden*2), self.n_output)\n",
    "        )\n",
    "        \n",
    "    def forward(self, x):\n",
    "        # initialize hidden and cell states to zeros(0)\n",
    "        h0 = torch.zeros(self.n_lstm_layers, x.shape[0], self.n_hidden).requires_grad_()\n",
    "        c0 = torch.zeros(self.n_lstm_layers, x.shape[0], self.n_hidden).requires_grad_()\n",
    "        \n",
    "        output, (hn, cn) = self.LSTM_layer(x, (h0.detatch(), c0.detatch()))\n",
    "        \n",
    "        r\"\"\"\n",
    "            index hidden state of last time step\n",
    "            out.size() ---> batch_size, last_seq_val, n_hidden\n",
    "            out[:, -1, :] ---> get the last sequence / time step\n",
    "        \"\"\"\n",
    "        output = output[:, -1, :]\n",
    "        output = self.fc_layers(output)\n",
    "        \n",
    "        return output"
   ]
  },
  {
   "cell_type": "code",
   "execution_count": null,
   "id": "be9d2db3",
   "metadata": {},
   "outputs": [],
   "source": []
  }
 ],
 "metadata": {
  "kernelspec": {
   "display_name": "Python 3 (ipykernel)",
   "language": "python",
   "name": "python3"
  },
  "language_info": {
   "codemirror_mode": {
    "name": "ipython",
    "version": 3
   },
   "file_extension": ".py",
   "mimetype": "text/x-python",
   "name": "python",
   "nbconvert_exporter": "python",
   "pygments_lexer": "ipython3",
   "version": "3.10.9"
  }
 },
 "nbformat": 4,
 "nbformat_minor": 5
}
